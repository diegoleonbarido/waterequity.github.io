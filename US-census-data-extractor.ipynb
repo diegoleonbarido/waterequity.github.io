{
 "cells": [
  {
   "cell_type": "code",
   "execution_count": 3,
   "metadata": {
    "collapsed": false
   },
   "outputs": [
    {
     "name": "stdout",
     "output_type": "stream",
     "text": [
      "height has been deprecated.\n",
      "\n"
     ]
    }
   ],
   "source": [
    "from us import states\n",
    "import csv\n",
    "import requests\n",
    "import pandas as pd\n",
    "import pdb\n",
    "\n",
    "pd.set_option('display.height', 1000)\n",
    "pd.set_option('display.max_rows', 1000)\n",
    "\n",
    "\n",
    "import googlemaps\n",
    "\n",
    "# --- Use US Government Census API (http://api.census.gov/data/key_signup.html)\n",
    "# --- Use Google API to fetch coordinates of places\n",
    "# --- The API key are user-specific and stored in your own file API_keys.py in the variables\n",
    "# --- GOOGLE_API_KEY and CENSUS_API_KEY\n",
    "execfile('./API_keys.py')\n",
    "gmaps = googlemaps.Client(key=GOOGLE_API_KEY)"
   ]
  },
  {
   "cell_type": "markdown",
   "metadata": {},
   "source": [
    "## Get Data from US Census"
   ]
  },
  {
   "cell_type": "code",
   "execution_count": 682,
   "metadata": {
    "collapsed": true
   },
   "outputs": [],
   "source": [
    "# --- Codes in the US Governmental Census API\n",
    "# --- Data to be fetched in http://api.census.gov/data/2013/acs5/variables.html\n",
    "# --- More data could be fed by using the right Census Code.\n",
    "# B01003_001E - Total Population\n",
    "# B02001_002E - White alone\n",
    "# B11001_001E -  Households Type (Number of household)\n",
    "# B06011_001E - Median income in the past 12 months --!!Total:\n",
    "# B19083_001E - Gini index\n",
    "# C24070_001E - Industry by Class of Worker for the Civilian Employed Population 16 Years and Over\n",
    "# C24070_002E - Industry by Class of Worker in agriculture, forestry, fishing, hunting, mining\n",
    "\n",
    "features =      [\"B01003_001E\",\"B02001_002E\",\"B11001_001E\",\"B06011_001E\",\"B19083_001E\",\"C24070_001E\",\"C24070_002E\"]\n",
    "feature_names = [\"Total Population\",\"White Population\",\"Number of Household\",\n",
    "                 \"Median Income\",\"Gini Index\",\"Industry Total\",\"Industry in Agriculture\"]"
   ]
  },
  {
   "cell_type": "code",
   "execution_count": 683,
   "metadata": {
    "collapsed": false
   },
   "outputs": [],
   "source": [
    "def fetch_data_year(year):\n",
    "    \n",
    "    geoLimit='&for=place:*&in=state:' + states.CA.fips + '&key=' + API_KEY\n",
    "    api_url_base = 'http://api.census.gov/data/'+str(year)+'/acs5?get=NAME,'\n",
    "    api_url=api_url_base+','.join(features)+geoLimit+'&key='+API_KEY\n",
    "    r = requests.get(api_url)\n",
    "    data=r.json()\n",
    "    \n",
    "    df = pd.DataFrame(data[1:],columns = [\"City Name\"] + feature_names + [\"State\",\"Place\"])\n",
    "    df.drop(\"State\",1, inplace=True)\n",
    "    df.drop(\"Place\",1, inplace=True)\n",
    "    df = df.convert_objects(convert_numeric = True)\n",
    "\n",
    "    df[\"White Proportion (in %)\"] = df[\"White Population\"]/df[\"Total Population\"] * 100\n",
    "    df.drop(\"White Population\", 1, inplace = True)\n",
    "\n",
    "    df[\"Household Size\"] = df[\"Total Population\"]/df[\"Number of Household\"]\n",
    "    df.drop(\"Number of Household\", 1, inplace = True)\n",
    "    df[\"Agriculture Employement (in %)\"] = df[\"Industry in Agriculture\"]/df[\"Industry Total\"] * 100\n",
    "    df.drop(\"Industry in Agriculture\", 1, inplace = True)\n",
    "    df.drop(\"Industry Total\", 1, inplace = True)\n",
    "    \n",
    "    for city_index in range(len(df)):\n",
    "        df.iloc[city_index,0] = df.iloc[city_index,0][:-12]\n",
    "    for city_index in range(len(df)):\n",
    "        if df.iloc[city_index,0] == u'La Ca\\xf1ada Flintridge city':\n",
    "            df.iloc[city_index,0] = 'La Canada Flintridge'\n",
    "            continue\n",
    "        if df.iloc[city_index,0] == u'Pi\\xf1on Hills CDP':\n",
    "            df.iloc[city_index,0] = 'Pinon Hills'\n",
    "            continue\n",
    "        if df.iloc[city_index,0][-4:] == \" CDP\":\n",
    "            df.iloc[city_index,0] = str(df.iloc[city_index,0][:-4])\n",
    "        if df.iloc[city_index,0][-5:] == \" city\":\n",
    "            df.iloc[city_index,0] = str(df.iloc[city_index,0][:-5])\n",
    "    return df"
   ]
  },
  {
   "cell_type": "code",
   "execution_count": 679,
   "metadata": {
    "collapsed": false
   },
   "outputs": [],
   "source": [
    "df_2013 = fetch_data_year(2013)\n",
    "#df_2012 = fetch_data_year(2012)\n",
    "#df_2011 = fetch_data_year(2011)\n",
    "#df_2010 = fetch_data_year(2010)"
   ]
  },
  {
   "cell_type": "code",
   "execution_count": null,
   "metadata": {
    "collapsed": true
   },
   "outputs": [],
   "source": [
    "df_2013.loc[df_2013[\"City Name\"] == \"Jurupa Valley\",\"City Name\"] = \"Jurapa\"\n",
    "df_2013.loc[df_2013[\"City Name\"] == \"Orangevale\",\"City Name\"] = \"Orange Vale\"\n",
    "df_2013.loc[df_2013[\"City Name\"] == \"Dublin\",\"City Name\"] = \"Dublin San Ramon\"\n",
    "df_2013.loc[df_2013[\"City Name\"] == \"El Dorado Hills\",\"City Name\"] = \"El Dorado\"\n",
    "df_2013.loc[df_2013[\"City Name\"] == \"San Lorenzo\",\"City Name\"] = \"San Lorenzo Valley\"\n",
    "df_2013.loc[df_2013[\"City Name\"] == \"South Lake Tahoe\",\"City Name\"] = \"South Tahoe\"\n",
    "df_2013.loc[df_2013[\"City Name\"] == \"Lake Elsinore\",\"City Name\"] = \"Elsinore Valley\"\n",
    "df_2013.loc[df_2013[\"City Name\"] == \"Coachella\",\"City Name\"] = \"Coachella Valley\"\n",
    "df_2013.loc[df_2013[\"City Name\"] == \"Contra Consta Center\",\"City Name\"] = \"Contra Consta\"\n",
    "df_2013.loc[df_2013[\"City Name\"] == \"Antelope\",\"City Name\"] = \"Antelope Valley\"\n",
    "df_2013.loc[df_2013[\"City Name\"] == \"Irvine\",\"City Name\"] = \"Irvine Ranch\"\n",
    "df_2013.loc[df_2013[\"City Name\"] == \"Rowland Heights\",\"City Name\"] = \"Rowland\"\n",
    "df_2013.loc[df_2013[\"City Name\"] == \"South Lake Tahoe\",\"City Name\"] = \"South Tahoe\"\n",
    "df_2013.loc[df_2013[\"City Name\"] == \"Desert Center\",\"City Name\"] = \"South Tahoe\"\n",
    "df_2013.loc[df_2013[\"City Name\"] == \"South Lake Tahoe\",\"City Name\"] = \"South Tahoe\"\n",
    "df_2013.loc[df_2013[\"City Name\"] == \"Desert Center\",\"City Name\"] = \"Hi-Desert\"\n",
    "df_2013.loc[df_2013[\"City Name\"] == \"Marin City\",\"City Name\"] = \"Marin\"\n",
    "df_2013.loc[df_2013[\"City Name\"] == \"Strawberry CDP (Marin County)\",\"City Name\"] = \"North Marin\"\n",
    "df_2013.loc[df_2013[\"City Name\"] == \"Windsor Town\",\"City Name\"] = \"Windsor\"\n",
    "df_2013.loc[df_2013[\"City Name\"] == \"Indian Wells\",\"City Name\"] = \"Indian Wells Valley\"\n",
    "df_2013.loc[df_2013[\"City Name\"] == \"Rancho Calaveras\",\"City Name\"] = \"Calaveras\"\n",
    "\n",
    "df_2013.loc[df_2013[\"City Name\"] == \"Bayview CDP (Humboldt County)\",\"City Name\"] = \"Humboldt Bay\"\n",
    "df_2013.loc[df_2013[\"City Name\"] == \"East Los Angeles\",\"City Name\"] = \"Los Angeles County Public Works Waterworks District 29\"\n",
    "df_2013.loc[df_2013[\"City Name\"] == \"Placerville\",\"City Name\"] = \"Placer\"\n",
    "df_2013.loc[df_2013[\"City Name\"] == \"Nevada\",\"City Name\"] = \"Nevada City\"\n",
    "df_2013.loc[df_2013[\"City Name\"] == \"Mission Hills\",\"City Name\"] = \"Mission Springs\"\n",
    "df_2013.loc[df_2013[\"City Name\"] == \"Sunnyside-Tahoe City\",\"City Name\"] = \"Tahoe City\"\n",
    "df_2013.loc[df_2013[\"City Name\"] == \"Amador City\",\"City Name\"] = \"Amador Water Agency\"\n",
    "df_2013.loc[df_2013[\"City Name\"] == \"Truckee town\",\"City Name\"] = \"Truckee-Donner\"\n",
    "df_2013.loc[df_2013[\"City Name\"] == \"Joshua Tree\",\"City Name\"] = \"Joshua Basin\"\n",
    "df_2013.loc[df_2013[\"City Name\"] == \"Tuolumne City\",\"City Name\"] = \"Tuolumne Utilities\"\n",
    "df_2013.loc[df_2013[\"City Name\"] == \"Amador City\",\"City Name\"] = \"Amador Water Agency\"\n",
    "df_2013.loc[df_2013[\"City Name\"] == \"San Buenaventura (Ventura)\",\"City Name\"] = \"San Buenaventura\"\n",
    "\n",
    "df_2013.loc[df_2013[\"City Name\"] == \"Castaic\",\"City Name\"] = \"Castaic Lake Water Agency Santa Clarita Water Division\"\n",
    "df_2013.loc[df_2013[\"City Name\"] == \"Rio Vista\",\"City Name\"] = \"Rio Vista, city of\"\n",
    "df_2013.loc[df_2013[\"City Name\"] == \"Soquel\",\"City Name\"] = \"Soquel Creek\"\n",
    "df_2013.loc[df_2013[\"City Name\"] == \"Bear Creek\",\"City Name\"] = \"Bear Gulch\"\n",
    "df_2013.loc[df_2013[\"City Name\"] == \"Hillsborough town\",\"City Name\"] = \"Hillsborough\"\n",
    "df_2013.loc[df_2013[\"City Name\"] == \"North San Juan\",\"City Name\"] = \"San Juan\"\n",
    "df_2013.loc[df_2013[\"City Name\"] == \"West Rancho Dominguez\",\"City Name\"] = \"Dominguez\"\n",
    "\n",
    "df_2013.loc[df_2013[\"City Name\"] == \"Hermosa Beach\",\"City Name\"] = \"Hermosa/Redondo\"\n",
    "df_2013.loc[df_2013[\"City Name\"] == \"West Rancho Dominguez\",\"City Name\"] = \"Yucaipa Valley\"\n",
    "df_2013.loc[df_2013[\"City Name\"] == \"El Paso de Robles (Paso Robles)\",\"City Name\"] = \"Paso Robles\"\n",
    "df_2013.loc[df_2013[\"City Name\"] == \"Palos Verdes Estates\",\"City Name\"] = \"Palos Verdes\"\n",
    "df_2013.loc[df_2013[\"City Name\"] == \"Westlake Village\",\"City Name\"] = \"Westlake\"\n",
    "df_2013.loc[df_2013[\"City Name\"] == \"Mammoth Lakes town\",\"City Name\"] = \"Mammoth\"\n",
    "\n",
    "df_2013.loc[df_2013[\"City Name\"] == \"Marina\",\"City Name\"] = \"Marina Coast\"\n",
    "df_2013.loc[df_2013[\"City Name\"] == \"Livermore\",\"City Name\"] = \"Livermore \"\n",
    "df_2013.loc[df_2013[\"City Name\"] == \"La Crescenta-Montrose\",\"City Name\"] = \"Crescenta Valley\"\n",
    "df_2013.loc[df_2013[\"City Name\"] == \"San Garbriel\",\"City Name\"] = \"San Gabriel Valley\""
   ]
  },
  {
   "cell_type": "code",
   "execution_count": 680,
   "metadata": {
    "collapsed": false
   },
   "outputs": [],
   "source": [
    "#df_2010.to_csv(\"data_2010.csv\")\n",
    "#df_2011.to_csv(\"data_2011.csv\")\n",
    "#df_2012.to_csv(\"data_2012.csv\")\n",
    "df_2013.to_csv(\"data_2013.csv\")"
   ]
  },
  {
   "cell_type": "markdown",
   "metadata": {},
   "source": [
    "## Clean Diego Data"
   ]
  },
  {
   "cell_type": "code",
   "execution_count": 693,
   "metadata": {
    "collapsed": false
   },
   "outputs": [],
   "source": [
    "diego_list = []\n",
    "with open(\"rationalberttwo (1).csv\") as csvfile:\n",
    "    csv_reader = csv.reader(csvfile)\n",
    "    for row in csv_reader:\n",
    "        diego_list.append(row)        "
   ]
  },
  {
   "cell_type": "code",
   "execution_count": 694,
   "metadata": {
    "collapsed": false
   },
   "outputs": [],
   "source": [
    "diego_df = pd.DataFrame(diego_list[1:], columns = diego_list[0])\n",
    "diego_df.drop(\"\", 1, inplace= True)\n",
    "\n",
    "suffix_to_exclude = [\"  City of\", \", City of\", \", City of \",\" City of\", \" Municipal Water District\",\n",
    "                    \" Public Utilities District\", \" Irrigation District\", \" Public Utility District\"\n",
    "                    \"Water & Sanitary District\", \" Water & Sanitary District\"\" County Service Area 70\",\n",
    "                    \" Services District\", \" Water District\", \" Municipal Utilities District\",\n",
    "                    \" Community Service District\", \" Water Company\",\n",
    "                    \" Department of Water and Power\", \" County\", \" Community\", \" Mutual\",\n",
    "                    \" Water Department\", \" Public Utilities Commission\", \" Suburban\", \", Town of\",\n",
    "                    \" County Water Agency\", \" County Public Works Waterworks District 40\",\n",
    "                    \" Public Utility District\", \" City of Public Works Department\",\n",
    "                    \" Land and Water Association\", \" County Service Area 64\",\n",
    "                    \" Water and Power Agency\", \"  Agency\", \" Water Service\",\n",
    "                    \" Town of\", \"/Suburban\", \" Municipal Improvement District\",\n",
    "                    \" Sanitation District / Oak Park Water Service\",\n",
    "                    \" City of Division of Water Resources\", \" Land and\",\n",
    "                    \" City of Public Works\",\" Fontana\", \", Dept of Water & Power\",\n",
    "                    \" District\", \" Water Authority\", \" County Waterworks District No. 8\",\n",
    "                    \" County Waterworks District No 1\", \" Water Company Incorporated\",\n",
    "                    \" Authority\", \"-Bell Gardens\", \" Water Service\", \" City of\"]\n",
    "\n",
    "prefix_to_exclude = [\"City of \", \"California Water Service Company \", \"California Water Service Company \",\n",
    "                     \"Western Municipal Water District of \", \"Golden State Water Company \",\n",
    "                    \"California-American Water Company \", \"Suburban Water Systems \",\n",
    "                    \"Suburban Water Systems \"]"
   ]
  },
  {
   "cell_type": "code",
   "execution_count": 695,
   "metadata": {
    "collapsed": false
   },
   "outputs": [
    {
     "name": "stdout",
     "output_type": "stream",
     "text": [
      "6521\n"
     ]
    }
   ],
   "source": [
    "cnt = 0\n",
    "for name_index in range(len(diego_df)):\n",
    "    for suffix in suffix_to_exclude:\n",
    "        suffix_size = len(suffix)\n",
    "        if diego_df.iloc[name_index,0][-suffix_size:] == suffix:\n",
    "            diego_df.iloc[name_index,0] = diego_df.iloc[name_index,0][:-suffix_size]\n",
    "            cnt += 1  \n",
    "    for prefix in prefix_to_exclude:\n",
    "        prefix_size = len(prefix)\n",
    "        if diego_df.iloc[name_index,0][:prefix_size] == prefix:\n",
    "            diego_df.iloc[name_index,0] = diego_df.iloc[name_index,0][prefix_size:]\n",
    "            cnt += 1  \n",
    "print \"Number of treated elements: \",cnt"
   ]
  },
  {
   "cell_type": "code",
   "execution_count": 696,
   "metadata": {
    "collapsed": false
   },
   "outputs": [],
   "source": [
    "diego_df.to_csv(\"diego_df.csv\")"
   ]
  },
  {
   "cell_type": "code",
   "execution_count": null,
   "metadata": {
    "collapsed": true
   },
   "outputs": [],
   "source": [
    "'''\n",
    "diego_df[diego_df[\"Supplier.Name\"] == \"Jurupa\"] = \"Jurupa Valley\"\n",
    "diego_df[diego_df[\"Supplier.Name\"] == \"Orange Vale\"] = \"Orangevale\"\n",
    "diego_df[diego_df[\"Supplier.Name\"] == \"Dublin San Ramon\"] = \"Dublin\"\n",
    "diego_df[diego_df[\"Supplier.Name\"] == \"El Dorado\"] = \"El Dorado Hills\"\n",
    "diego_df[diego_df[\"Supplier.Name\"] == \"San Lorenzo Valley\"] = \"San Lorenzo\"\n",
    "diego_df[diego_df[\"Supplier.Name\"] == \"South Tahoe\"] = \"South Lake Tahoe\"\n",
    "diego_df[diego_df[\"Supplier.Name\"] == \"Elsinore Valley\"] = \"Lake Elsinore\"\n",
    "diego_df[diego_df[\"Supplier.Name\"] == \"Coachella Valley\"] = \"Coachella\"\n",
    "diego_df[diego_df[\"Supplier.Name\"] == \"Contra Consta\"] = \"Contra Consta Center\"\n",
    "diego_df[diego_df[\"Supplier.Name\"] == \"Antelope Valley\"] = \"Antelope\"\n",
    "diego_df[diego_df[\"Supplier.Name\"] == \"Irvine Ranch\"] = \"Irvine\"\n",
    "diego_df[diego_df[\"Supplier.Name\"] == \"Rowland\"] = \"Rowland Heights\"\n",
    "diego_df[diego_df[\"Supplier.Name\"] == \"South Tahoe\"] = \"South Lake Tahoe\"\n",
    "\n",
    "diego_df[diego_df[\"Supplier.Name\"] == \"Hi-Desert\"] = \"Desert Center\"\n",
    "diego_df[diego_df[\"Supplier.Name\"] == \"Marin\"] = \"Marin City\"\n",
    "diego_df[diego_df[\"Supplier.Name\"] == \"North Marin \"] = \"Strawberry CDP (Marin County)\"\n",
    "diego_df[diego_df[\"Supplier.Name\"] == \"Windsor\"] = \"Windsor Town\"\n",
    "diego_df[diego_df[\"Supplier.Name\"] == \"Indian Wells Valley\"] = \"Indian Wells\"\n",
    "diego_df[diego_df[\"Supplier.Name\"] == \"Calaveras\"] = \"Rancho Calaveras\"\n",
    "\n",
    "diego_df[diego_df[\"Supplier.Name\"] == \"Humboldt Bay\"] = \"Bayview CDP (Humboldt County)\"\n",
    "diego_df[diego_df[\"Supplier.Name\"] == \"Los Angeles County Public Works Waterworks District 29\"] = \"East Los Angeles\"\n",
    "diego_df[diego_df[\"Supplier.Name\"] == \"Placer\"] = \"Placerville\"\n",
    "diego_df[diego_df[\"Supplier.Name\"] == \"Nevada City\"] = \"Nevada\"\n",
    "diego_df[diego_df[\"Supplier.Name\"] == \"Mission Springs\"] = \"Mission Hills\"\n",
    "diego_df[diego_df[\"Supplier.Name\"] == \"Tahoe City\"] = \"Sunnyside-Tahoe City\"\n",
    "diego_df[diego_df[\"Supplier.Name\"] == \"Amador Water Agency\"] = \"Amador City\"\n",
    "diego_df[diego_df[\"Supplier.Name\"] == \"Truckee-Donner\"] = \"Truckee town\"\n",
    "diego_df[diego_df[\"Supplier.Name\"] == \"Joshua Basin\"] = \"Joshua Tree\"\n",
    "diego_df[diego_df[\"Supplier.Name\"] == \"Tuolumne Utilities\"] = \"Tuolumne City\"\n",
    "diego_df[diego_df[\"Supplier.Name\"] == \"San Buenaventura\"] = \"San Buenaventura (Ventura)\"\n",
    "\n",
    "diego_df[diego_df[\"Supplier.Name\"] == \"Castaic Lake Water Agency Santa Clarita Water Division\"] = \"Castaic\"\n",
    "diego_df[diego_df[\"Supplier.Name\"] == \"Rio Vista, city of\"] = \"Rio Vista\"\n",
    "diego_df[diego_df[\"Supplier.Name\"] == \"Soquel Creek\"] = \"Soquel\"\n",
    "diego_df[diego_df[\"Supplier.Name\"] == \"Bear Gulch\"] = \"Bear Creek\"\n",
    "diego_df[diego_df[\"Supplier.Name\"] == \"Hillsborough\"] = \"Hillsborough town\"\n",
    "diego_df[diego_df[\"Supplier.Name\"] == \"San Juan\"] = \"North San Juan\"\n",
    "diego_df[diego_df[\"Supplier.Name\"] == \"Dominguez\"] = \"West Rancho Dominguez\"\n",
    "\n",
    "diego_df[diego_df[\"Supplier.Name\"] == \"Marina Coast\"] = \"Marina\"\n",
    "diego_df[diego_df[\"Supplier.Name\"] == \"Livermore \"] = \"Livermore\"\n",
    "diego_df[diego_df[\"Supplier.Name\"] == \"Crescenta Valley\"] = \"La Crescenta-Montrose\"\n",
    "diego_df[diego_df[\"Supplier.Name\"] == \"San Gabriel Valley\"] = \"San Garbriel\"\n",
    "\n",
    "diego_df[diego_df[\"Supplier.Name\"] == \"Hermosa/Redondo\"] = \"Hermosa Beacg\"\n",
    "diego_df[diego_df[\"Supplier.Name\"] == \"Yucaipa Valley\"] = \"Yucaipa\"\n",
    "diego_df[diego_df[\"Supplier.Name\"] == \"Paso Robles\"] = \"El Paso de Robles (Paso Robles)\"\n",
    "diego_df[diego_df[\"Supplier.Name\"] == \"Palos Verdes\"] = \"Palos Verdes Estates\"\n",
    "diego_df[diego_df[\"Supplier.Name\"] == \"Westlake\"] = \"Westlake Village\"\n",
    "diego_df[diego_df[\"Supplier.Name\"] == \"Mammoth\"] = \"Mammoth Lakes town\"\n",
    "'''"
   ]
  }
 ],
 "metadata": {
  "kernelspec": {
   "display_name": "Python 2",
   "language": "python",
   "name": "python2"
  },
  "language_info": {
   "codemirror_mode": {
    "name": "ipython",
    "version": 2
   },
   "file_extension": ".py",
   "mimetype": "text/x-python",
   "name": "python",
   "nbconvert_exporter": "python",
   "pygments_lexer": "ipython2",
   "version": "2.7.10"
  }
 },
 "nbformat": 4,
 "nbformat_minor": 0
}
